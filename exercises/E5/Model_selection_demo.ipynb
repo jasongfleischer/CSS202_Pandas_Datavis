{
 "cells": [
  {
   "cell_type": "markdown",
   "metadata": {
    "id": "vGmJVJfeNc34"
   },
   "source": [
    "# Model selection\n",
    "\n",
    "Previously, we saw the basic recipe for applying a supervised machine learning model:\n",
    "\n",
    "1. Choose a feature representation of the data\n",
    "1. Choose a class of algorithm/model\n",
    "1. Choose model hyperparameters (things like $\\lambda$ for L2 normalization, C for an SVM, k for k-NN)\n",
    "1. Fit the model to the training data\n",
    "1. Use the model to predict labels for new data\n",
    "\n",
    "The first two pieces of this—the choice of model and choice of hyperparameters—are perhaps the most important part of using these tools and techniques effectively.\n",
    "\n",
    "In order to make an informed choice, we need a way to *validate* that our features, model, and hyperparameters are a good fit to the data.\n",
    "While this may sound simple, there are some pitfalls that you must avoid to do this effectively.\n",
    "\n",
    "Things get even more complicated when we are selecting more than one of these things (features, model, hyperparameters) at once on limited amounts of data. Or when our dataset has imbalanced classes (e.g., many more healthy people than cancer patients)\n",
    "\n",
    "Let's start by working with our old friend, polynomial regression using OLS"
   ]
  },
  {
   "cell_type": "code",
   "execution_count": null,
   "metadata": {
    "executionInfo": {
     "elapsed": 429,
     "status": "ok",
     "timestamp": 1606291620973,
     "user": {
      "displayName": "Jason Fleischer",
      "photoUrl": "https://lh3.googleusercontent.com/a-/AOh14GgtpHzWbfEIjvnSItG-SwnFKlKdDRTKK6knRrrJ=s64",
      "userId": "06790656365434630744"
     },
     "user_tz": 480
    },
    "id": "S93s_JoOBxCC"
   },
   "outputs": [],
   "source": [
    "import numpy as np\n",
    "import matplotlib.pyplot as plt\n",
    "import pandas as pd\n",
    "import seaborn as sns\n",
    "sns.set(style=\"white\") # plot formatting\n",
    "%config InlineBackend.figure_format ='retina'\n",
    "\n",
    "# toy data ~ randomly sampled underlying asymptotic function + gaussian noise \n",
    "def true_func(X):\n",
    "  return 10 - 1. / (X.ravel() + 0.1)\n",
    "\n",
    "def make_data(N, err=1.0, rseed=1):\n",
    "    rng = np.random.RandomState(rseed)\n",
    "    X = rng.rand(N, 1) ** 2\n",
    "    y = true_func(X)\n",
    "    if err > 0:\n",
    "        y += err * rng.randn(N)\n",
    "    return X, y"
   ]
  },
  {
   "cell_type": "markdown",
   "metadata": {
    "id": "iErkmaElXU-u"
   },
   "source": [
    "Let's introduce you to a _pipeline_, a scikit-learn method to put together a bunch of functions into a single learning algorithm. You can see the documentation here: https://scikit-learn.org/stable/modules/generated/sklearn.pipeline.Pipeline.html\n",
    "\n",
    "Remember our old way of doing the Polynomial Regression with OLS? We had to do each step explicitly:\n",
    "\n",
    "```python\n",
    "feature = PolynomialFeatures(degree=9)\n",
    "X_train = feature.fit_transform(x_train)\n",
    "X_predict = feature.fit_transform(x_predict)\n",
    "model = LinearRegression(fit_intercept=False)\n",
    "model.fit(X_train, y_train)\n",
    "y_predict = model.predict(X_predict)\n",
    "```\n",
    "\n",
    "The pipeline below allows us to construct it in a single call. \n",
    "\n",
    "```python\n",
    "model = PolynomialRegression(degree=9, fit_intercept=False).fit(x_train, y_train)\n",
    "y_predict = model.predict(x_predict)\n",
    "```\n",
    "Making a complicated algo into a single function is very helpful in scikit-learn.  It allows us to take advantage of handy scikit-learn methods that take a single argument, like cross-validation & learning curves.  Without this utility we would have to code a custom cross-validation loop for every single crazy algo we thought up.\n"
   ]
  },
  {
   "cell_type": "code",
   "execution_count": null,
   "metadata": {
    "executionInfo": {
     "elapsed": 472,
     "status": "ok",
     "timestamp": 1606291705729,
     "user": {
      "displayName": "Jason Fleischer",
      "photoUrl": "https://lh3.googleusercontent.com/a-/AOh14GgtpHzWbfEIjvnSItG-SwnFKlKdDRTKK6knRrrJ=s64",
      "userId": "06790656365434630744"
     },
     "user_tz": 480
    },
    "id": "px5IteVsXEMW"
   },
   "outputs": [],
   "source": [
    "from sklearn.pipeline import make_pipeline\n",
    "from sklearn.preprocessing import PolynomialFeatures\n",
    "from sklearn.linear_model import LinearRegression\n",
    "\n",
    "def PolynomialRegression(degree=2, **kwargs):\n",
    "    return make_pipeline(PolynomialFeatures(degree),\n",
    "                         LinearRegression(**kwargs))"
   ]
  },
  {
   "cell_type": "code",
   "execution_count": null,
   "metadata": {
    "colab": {
     "base_uri": "https://localhost:8080/",
     "height": 281
    },
    "executionInfo": {
     "elapsed": 851,
     "status": "ok",
     "timestamp": 1606291713599,
     "user": {
      "displayName": "Jason Fleischer",
      "photoUrl": "https://lh3.googleusercontent.com/a-/AOh14GgtpHzWbfEIjvnSItG-SwnFKlKdDRTKK6knRrrJ=s64",
      "userId": "06790656365434630744"
     },
     "user_tz": 480
    },
    "id": "ZNNyJ4-vViOL",
    "outputId": "1bbd55c5-0b44-4378-ea30-84f8b292e7d8"
   },
   "outputs": [],
   "source": [
    "X, y = make_data(40,rseed=1234)\n",
    "\n",
    "x_true = np.linspace(0, 1, 100).reshape(-1, 1) #  some x-vals so we can generate true y-vals\n",
    "y_true = true_func(x_true)\n",
    "\n",
    "plt.scatter(X, y, s=50, label=\"training data\")\n",
    "plt.plot(x_true, y_true, label=\"generating function\")\n",
    "\n",
    "for degree in [1, 3, 12]:\n",
    "    y_predict = PolynomialRegression(degree,fit_intercept=False).fit(X, y).predict(x_true)\n",
    "    plt.plot(x_true.ravel(), y_predict, label='degree={0}'.format(degree))\n",
    "\n",
    "plt.ylim(-1, 14)\n",
    "plt.legend()\n",
    "plt.title('Underfit (d=1), well fit, and overfit (d=12) models');\n",
    "sns.despine()"
   ]
  },
  {
   "cell_type": "markdown",
   "metadata": {
    "id": "RwZKIceanXry"
   },
   "source": [
    "Let me remind you of the method we used in a previous lecture to do cross-validation.  A handy function called KFold() produces iterative splits of the data according to your needs...\n",
    "\n"
   ]
  },
  {
   "cell_type": "code",
   "execution_count": null,
   "metadata": {
    "colab": {
     "base_uri": "https://localhost:8080/"
    },
    "executionInfo": {
     "elapsed": 647,
     "status": "ok",
     "timestamp": 1606291798005,
     "user": {
      "displayName": "Jason Fleischer",
      "photoUrl": "https://lh3.googleusercontent.com/a-/AOh14GgtpHzWbfEIjvnSItG-SwnFKlKdDRTKK6knRrrJ=s64",
      "userId": "06790656365434630744"
     },
     "user_tz": 480
    },
    "id": "HThVx2lenWMl",
    "outputId": "163ad973-4ec6-4750-85d5-25e44378f796"
   },
   "outputs": [],
   "source": [
    "from sklearn.model_selection import KFold\n",
    "from sklearn.metrics import mean_squared_error\n",
    "\n",
    "k_fold = KFold(n_splits=5)\n",
    "model = PolynomialRegression(3,fit_intercept=False)\n",
    "\n",
    "# collect the predicted y values and true y values of each hold out set\n",
    "predicteds=[]\n",
    "trueys=[]\n",
    "for train, holdout in k_fold.split(X, y):\n",
    "    model.fit(X[train],y[train])\n",
    "    predicteds.append( model.predict(X[holdout]) )\n",
    "    trueys.append( y[holdout] )\n",
    "\n",
    "# this is because we ended up with a list of arrays\n",
    "predicteds = np.array(predicteds)\n",
    "trueys = np.array(trueys)\n",
    "\n",
    "print('Validation error (MSE) across all folds', mean_squared_error(trueys.flatten(),predicteds.flatten()) )\n",
    "\n",
    "print('Validation error (MSE) in each of the 5 folds seperately')\n",
    "for p, t in zip(predicteds,trueys):\n",
    "  print(mean_squared_error(t,p))\n"
   ]
  },
  {
   "cell_type": "markdown",
   "metadata": {
    "id": "M73q8Dl4AfA3"
   },
   "source": [
    "Did I hear someone say there has to be an easier way?"
   ]
  },
  {
   "cell_type": "code",
   "execution_count": null,
   "metadata": {
    "colab": {
     "base_uri": "https://localhost:8080/"
    },
    "executionInfo": {
     "elapsed": 685,
     "status": "ok",
     "timestamp": 1606291870356,
     "user": {
      "displayName": "Jason Fleischer",
      "photoUrl": "https://lh3.googleusercontent.com/a-/AOh14GgtpHzWbfEIjvnSItG-SwnFKlKdDRTKK6knRrrJ=s64",
      "userId": "06790656365434630744"
     },
     "user_tz": 480
    },
    "id": "78kqLIw3ndQ0",
    "outputId": "b843bee7-0241-454a-926a-c45cb4a485a7"
   },
   "outputs": [],
   "source": [
    "from sklearn.model_selection import cross_val_score\n",
    "from sklearn.metrics import make_scorer\n",
    "\n",
    "# turn a metric function into a scorer class\n",
    "mse_scorer = make_scorer(mean_squared_error)\n",
    "\n",
    "# do it\n",
    "cross_val_score(model, X, y, cv=5, scoring=mse_scorer)"
   ]
  },
  {
   "cell_type": "markdown",
   "metadata": {
    "id": "vm750OLKncOw"
   },
   "source": [
    "# Visualizing simple hyperparameter searches\n",
    "\n",
    "Introducing validation curves, a cute way to visualize what varying a hyperparameter will do to the algorithms performance.\n",
    "\n",
    "This function cross-validates an sklearn estimator (any kind of classifier or regression or pipeline of those things) on the data; but it does this with multiple different hyperparameter settings. Then it plots both the training set and validation set (hold out fold) performance against the parameter values it tried.\n",
    "\n",
    "So if you pass it 15 parameter settings and 5 fold validation it runs 15x5 validation runs. Then you can calculate and plot the median (or mean or whatever) performance level of the 5 folds per parameter setting."
   ]
  },
  {
   "cell_type": "code",
   "execution_count": null,
   "metadata": {
    "colab": {
     "base_uri": "https://localhost:8080/",
     "height": 279
    },
    "executionInfo": {
     "elapsed": 1366,
     "status": "ok",
     "timestamp": 1606292064373,
     "user": {
      "displayName": "Jason Fleischer",
      "photoUrl": "https://lh3.googleusercontent.com/a-/AOh14GgtpHzWbfEIjvnSItG-SwnFKlKdDRTKK6knRrrJ=s64",
      "userId": "06790656365434630744"
     },
     "user_tz": 480
    },
    "id": "d4hAT5GQvxnr",
    "outputId": "28f3fe93-4ce0-4672-ddb0-ccd1ee3f553f"
   },
   "outputs": [],
   "source": [
    "from sklearn.model_selection import validation_curve\n",
    "from sklearn.metrics import r2_score\n",
    "\n",
    "degree = np.arange(0, 16)\n",
    "train_score, val_score = validation_curve(PolynomialRegression(), X, y,\n",
    "                                             param_name='polynomialfeatures__degree', \n",
    "                                             param_range = degree, # what parameters to iterate over\n",
    "                                             cv=5, # number of validation folds, can also put in a KFold or StratifiedKFold object here\n",
    "                                             scoring = 'r2' # uses R-squared... 1 is perfect, below 0 is worse than guessing mean of training set y-values\n",
    "                                         )\n",
    "\n",
    "plt.plot(degree, np.median(train_score, 1), color='blue', label='training score')\n",
    "plt.plot(degree, np.median(val_score, 1), color='red', label='validation score')\n",
    "plt.legend(loc='best')\n",
    "plt.ylim(-.25, 1.25)\n",
    "plt.xlabel('degree')\n",
    "plt.ylabel('score');\n",
    "sns.despine()"
   ]
  },
  {
   "cell_type": "markdown",
   "metadata": {
    "id": "CEZRSG6Dw54E"
   },
   "source": [
    "Pop quiz #1:\n",
    "\n",
    "What parameter setting above do you expect to have the best generalization to new data?\n",
    "\n",
    "What parameter setting has the best training set performance? \n",
    "\n",
    "If the best training set performance setting isn't the best generalizer, why is that?\n",
    "\n",
    "Answers to quiz #1 can be found in our previous lecture on data splitting\n",
    "\n",
    "Pop quiz #2:\n",
    "\n",
    "What is the \"score\" above? What other options are available there? What happens if you leave the scoring parameter blank? Is the default scoring method different for different scikit-learn algorithms? Answers to these questions can be found hidden cleverly in \n",
    "\n",
    "https://scikit-learn.org/stable/modules/generated/sklearn.model_selection.validation_curve.html?highlight=validation%20curve#sklearn.model_selection.validation_curve\n",
    "\n",
    "\n",
    "https://scikit-learn.org/stable/modules/model_evaluation.html#scoring-parameter\n",
    "\n",
    "Bonus method to give you a sense of the range across the validation folds, instead of just plotting the central tendancy as above:\n",
    "https://scikit-learn.org/stable/auto_examples/model_selection/plot_validation_curve.html#sphx-glr-auto-examples-model-selection-plot-validation-curve-py\n",
    "\n"
   ]
  },
  {
   "cell_type": "markdown",
   "metadata": {
    "id": "oY5BsBYBvlBx"
   },
   "source": [
    "# Learning curves\n",
    "Now sometimes you might be interested in knowing \"how many data samples do I need to make a decent classifier?\" The answer to this question is dependant on many things, including the algorithm, its hyperparameters, and the data.\n",
    "\n",
    "So as you might imagine, if you want to fit a more complicated overfitting-prone model, you would find poor generalization performance if you don't have enough data.  Random chance will give you overfitting wiggles since it's a high variance model.  But if you use more data, then things can still come out OK as the model gets enough info to restrict its wiggling.\n",
    "\n",
    "Let's introduce learning_curve() helper function to find out how polynomial degree affects our data sample needs. It will run each fold of the cross-validation on different random subsamples of the total training data. The reported value is the median across folds at that particular subsample size.\n",
    "\n",
    "Thus we have an estimate of how much training data we need for simple D=2 vs complex D=9 models"
   ]
  },
  {
   "cell_type": "code",
   "execution_count": null,
   "metadata": {
    "colab": {
     "base_uri": "https://localhost:8080/",
     "height": 669
    },
    "executionInfo": {
     "elapsed": 2031,
     "status": "ok",
     "timestamp": 1606292370460,
     "user": {
      "displayName": "Jason Fleischer",
      "photoUrl": "https://lh3.googleusercontent.com/a-/AOh14GgtpHzWbfEIjvnSItG-SwnFKlKdDRTKK6knRrrJ=s64",
      "userId": "06790656365434630744"
     },
     "user_tz": 480
    },
    "id": "nAPyn4NO3mEH",
    "outputId": "f7dd269f-f15b-4340-dcb4-b6f3b9338c89"
   },
   "outputs": [],
   "source": [
    "from sklearn.model_selection import learning_curve\n",
    "\n",
    "#MOAR data, bigger data\n",
    "X2, y2 = make_data(50)\n",
    "plt.scatter(X2.ravel(), y2);\n",
    "plt.title('Now we have 50 data points')\n",
    "sns.despine()\n",
    "plt.show()\n",
    "\n",
    "fig, ax = plt.subplots(1, 2, figsize=(16, 6))\n",
    "fig.subplots_adjust(left=0.0625, right=0.95, wspace=0.1)\n",
    "\n",
    "for i, degree in enumerate([2, 9]):\n",
    "    N, train_lc, val_lc = learning_curve(PolynomialRegression(degree),\n",
    "                                         X2, y2, cv=5,\n",
    "                                         train_sizes=np.linspace(0.3, 1, 25))\n",
    "\n",
    "    ax[i].plot(N, np.mean(train_lc, 1), color='blue', label='training score')\n",
    "    ax[i].plot(N, np.mean(val_lc, 1), color='red', label='validation score')\n",
    "\n",
    "    ax[i].set_ylim(0, 1)\n",
    "    ax[i].set_xlim(N[0], N[-1])\n",
    "    ax[i].set_xlabel('training size')\n",
    "    ax[i].set_ylabel('score')\n",
    "    ax[i].set_title('degree = {0}'.format(degree), size=14)\n",
    "    ax[i].legend(loc='best')\n",
    "    sns.despine()"
   ]
  },
  {
   "cell_type": "markdown",
   "metadata": {
    "id": "0wEtPRtCuwsj"
   },
   "source": [
    "If you wanted to, you can also collect multiple scoring metrics simultaneously during the gridsearch: https://scikit-learn.org/stable/auto_examples/model_selection/plot_multi_metric_evaluation.html \n",
    "\n"
   ]
  },
  {
   "cell_type": "markdown",
   "metadata": {},
   "source": [
    "# Cross-validation for model selection"
   ]
  },
  {
   "cell_type": "code",
   "execution_count": null,
   "metadata": {},
   "outputs": [],
   "source": [
    "import seaborn as sns\n",
    "from sklearn.compose import ColumnTransformer\n",
    "from sklearn.compose import make_column_selector as selector\n",
    "from sklearn.preprocessing import OneHotEncoder, StandardScaler\n",
    "\n",
    "# lets get some 🐧 data to work with\n",
    "df = sns.load_dataset('penguins').dropna()\n",
    "\n",
    "# what we want to predict\n",
    "y_p = df['species']\n",
    "df = df.drop(columns='species')\n",
    "\n",
    "# transform the categorical variables into one hot, \n",
    "# z-score the numeric variables\n",
    "numerical_columns_selector = selector(dtype_exclude=object)\n",
    "categorical_columns_selector = selector(dtype_include=object)\n",
    "\n",
    "numerical_columns = numerical_columns_selector(df)\n",
    "categorical_columns = categorical_columns_selector(df)\n",
    "\n",
    "onehot = OneHotEncoder()\n",
    "scaler = StandardScaler()\n",
    "\n",
    "preprocessor = ColumnTransformer([\n",
    "    ('onehot', onehot, categorical_columns),\n",
    "    ('zscore', scaler, numerical_columns)])\n",
    "\n",
    "\n",
    "X_p = preprocessor.fit_transform(df)\n",
    "\n"
   ]
  },
  {
   "cell_type": "code",
   "execution_count": null,
   "metadata": {
    "colab": {
     "base_uri": "https://localhost:8080/"
    },
    "executionInfo": {
     "elapsed": 50468,
     "status": "ok",
     "timestamp": 1606284934018,
     "user": {
      "displayName": "Jason Fleischer",
      "photoUrl": "https://lh3.googleusercontent.com/a-/AOh14GgtpHzWbfEIjvnSItG-SwnFKlKdDRTKK6knRrrJ=s64",
      "userId": "06790656365434630744"
     },
     "user_tz": 480
    },
    "id": "_It0ApKO64ok",
    "outputId": "1cff3797-9184-4cd2-d40a-dfc14550a640",
    "scrolled": false
   },
   "outputs": [],
   "source": [
    "%%time\n",
    "#import warnings\n",
    "# there are a lot of convergence warnings for some params, however be careful with this!!\n",
    "# sometimes you need to see those wanrings, and now we've screwed tha tup for the whole notebook from here on!!\n",
    "#warnings.filterwarnings('ignore')\n",
    "\n",
    "from sklearn.pipeline import Pipeline\n",
    "from sklearn.ensemble import RandomForestClassifier\n",
    "from sklearn.linear_model import LogisticRegression\n",
    "from sklearn import datasets\n",
    "from sklearn.preprocessing import StandardScaler\n",
    "from sklearn.model_selection import GridSearchCV, StratifiedKFold\n",
    "\n",
    "# Create a pipeline \n",
    "pipe = Pipeline([('std', StandardScaler()),\n",
    "                 ('classifier', LogisticRegression())])\n",
    "\n",
    "# Create search space of candidate learning algorithms and their hyperparameters\n",
    "# note lbfgs can't do l1, and if you pass penalty='none' it expects no C value\n",
    "search_space = [{'classifier': [LogisticRegression(max_iter=5000)],\n",
    "                 'classifier__solver': ['saga'],\n",
    "                 'classifier__penalty': ['l1', 'l2'],\n",
    "                 'classifier__C': np.logspace(-4, 4, 9)},\n",
    "                {'classifier': [LogisticRegression(max_iter=5000)],\n",
    "                 'classifier__solver': ['lbfgs'],\n",
    "                 'classifier__penalty': ['l2'],\n",
    "                 'classifier__C': np.logspace(-4, 4, 9)},\n",
    "                {'classifier': [LogisticRegression(max_iter=5000)],\n",
    "                 'classifier__solver': ['lbfgs','saga'],\n",
    "                 'classifier__penalty': ['none']}\n",
    "                ]\n",
    "\n",
    "\n",
    "# Create grid search \n",
    "clf = GridSearchCV(pipe, search_space, cv=StratifiedKFold(n_splits=5), \n",
    "                   scoring=['accuracy', 'roc_auc_ovr', 'f1_micro'], refit=False,\n",
    "                   verbose=0)\n",
    "\n",
    "# Fit grid search\n",
    "best_model = clf.fit(X_p, y_p)\n",
    "\n",
    "# below we will get a bunch of warnings if some hyperparameters settings don't converge"
   ]
  },
  {
   "cell_type": "code",
   "execution_count": null,
   "metadata": {},
   "outputs": [],
   "source": [
    "best_model.estimator.get_params()"
   ]
  },
  {
   "cell_type": "code",
   "execution_count": null,
   "metadata": {
    "colab": {
     "base_uri": "https://localhost:8080/"
    },
    "executionInfo": {
     "elapsed": 392,
     "status": "ok",
     "timestamp": 1606284955179,
     "user": {
      "displayName": "Jason Fleischer",
      "photoUrl": "https://lh3.googleusercontent.com/a-/AOh14GgtpHzWbfEIjvnSItG-SwnFKlKdDRTKK6knRrrJ=s64",
      "userId": "06790656365434630744"
     },
     "user_tz": 480
    },
    "id": "Y7zq6cxc_tB2",
    "outputId": "882ba5da-cd30-4623-c8ef-3cb929d97fe8",
    "scrolled": false
   },
   "outputs": [],
   "source": [
    "# the detailed results of the whole model selection search...\n",
    "best_model.cv_results_\n",
    "# hmmm... how could you pull stuff out of these results to make some pretty graphs?\n",
    "\n",
    "# you might want to take a look at the lin"
   ]
  },
  {
   "cell_type": "code",
   "execution_count": null,
   "metadata": {},
   "outputs": [],
   "source": [
    "best_model.cv_results_['rank_test_accuracy']"
   ]
  },
  {
   "cell_type": "code",
   "execution_count": null,
   "metadata": {},
   "outputs": [],
   "source": [
    " best_model.cv_results_['params'][ np.argmin(best_model.cv_results_['rank_test_accuracy']) ]"
   ]
  },
  {
   "cell_type": "code",
   "execution_count": null,
   "metadata": {},
   "outputs": [],
   "source": [
    "p = best_model.cv_results_['params'][ np.argmin(best_model.cv_results_['rank_test_roc_auc_ovr']) ]\n",
    "p"
   ]
  },
  {
   "cell_type": "code",
   "execution_count": null,
   "metadata": {},
   "outputs": [],
   "source": [
    "p = best_model.cv_results_['params'][ np.argmin(best_model.cv_results_['rank_test_roc_auc_ovr']) ]\n",
    "pipe.set_params(**p)"
   ]
  },
  {
   "cell_type": "code",
   "execution_count": null,
   "metadata": {},
   "outputs": [],
   "source": [
    "results = pd.DataFrame( best_model.cv_results_['params'] )\n",
    "\n",
    "# next grab the score resulting from those parameters, add it to the data\n",
    "# score is accuracy; to display it as misclassification error we use 1 - x\n",
    "results['score_acc'] = 1 - best_model.cv_results_['mean_test_accuracy']\n",
    "\n",
    "# get rid of classifier__XX in columns\n",
    "cols = results.columns.to_series().str.split('__').apply(lambda x: x[-1])\n",
    "results.columns = cols\n",
    "\n",
    "# lets show the results for the saga solver across penalty & C values\n",
    "sns.heatmap( results.query('solver==\"saga\"').pivot('C','penalty','score_acc'),\n",
    "             annot=True, fmt='.3f')\n",
    "\n",
    "results\n",
    "\n"
   ]
  },
  {
   "cell_type": "markdown",
   "metadata": {
    "id": "r43LAAhs-1X6"
   },
   "source": [
    "\n",
    "\n",
    "---\n",
    "Acknowledgements: This notebook is a hodgepodge of my work plus stuff from open source notebooks by Jake Van Der Plas, Sebastian Rashkha, and Chris Albon. If you don't pay attention to these people on the interwebs you should.\n"
   ]
  },
  {
   "cell_type": "markdown",
   "metadata": {
    "id": "hAWGLrhU87Og"
   },
   "source": [
    "\n",
    "Now k-fold cross-validation by itself is a good-enough method of model selection. It is pretty efficient at using the data, so it can handle small-ish data tasks. It is pretty unbiased, especially when you use k around 5 or 10 for datasets with several hundred samples. \n",
    "\n",
    "But there are several important refinements we may need to make, depedending on the situation.\n",
    "\n",
    "Varma and Simon found that the nested cross-validation approach can reduce the bias, compared to regular k-fold cross-validation when used for both hyperparameter tuning and evaluation:  \"A nested CV procedure provides an almost unbiased estimate of the true error\" (Varma and Simon, *BMC bioinformatics*, 7(1):91, 2006).\n",
    "\n",
    "The method of nested cross-validation is relatively straight-forward as it merely is a nesting of two k-fold cross-validation loops: the inner loop is responsible for the model selection, and the outer loop is responsible for estimating the generalization accuracy, as shown below. \n",
    "\n",
    "\n",
    "\n",
    "![vh1sZ.png](data:image/png;base64,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)\n",
    "\n",
    "\n",
    "\n",
    "NB: This is one of MANY methods for trying to squeeze every drop of information out of small sample data and produce optimal estimates of generalization for model selection. As I said above plain old X-val is often \"good enough\". \n",
    "\n",
    "If you'd like to see a nice discussion of other methods for optimizing model selection, take a look at https://arxiv.org/abs/1811.12808 which are lecture notes for a class similar to this one that goes more in depth on this matter.\n",
    "\n",
    "In the meantime, let's see just how much better nested is than regular x-val at this dataset"
   ]
  },
  {
   "cell_type": "code",
   "execution_count": null,
   "metadata": {
    "colab": {
     "base_uri": "https://localhost:8080/",
     "height": 360
    },
    "executionInfo": {
     "elapsed": 26435,
     "status": "ok",
     "timestamp": 1606292657022,
     "user": {
      "displayName": "Jason Fleischer",
      "photoUrl": "https://lh3.googleusercontent.com/a-/AOh14GgtpHzWbfEIjvnSItG-SwnFKlKdDRTKK6knRrrJ=s64",
      "userId": "06790656365434630744"
     },
     "user_tz": 480
    },
    "id": "ai9XNyVm4-mH",
    "outputId": "a5e96b7a-3809-4040-cabd-bae46a985d8e",
    "scrolled": false
   },
   "outputs": [],
   "source": [
    "%%time \n",
    "\n",
    "from sklearn.svm import SVC\n",
    "from sklearn.model_selection import GridSearchCV\n",
    "from sklearn.linear_model import LogisticRegression\n",
    "\n",
    "\n",
    "# Number of random trials\n",
    "NUM_TRIALS = 20\n",
    "\n",
    "\n",
    "# Set up possible values of parameters to optimize over\n",
    "# this is a regularization parameter, smaller C => more regularization\n",
    "p_grid = {\"C\": [1, 10, 100,  1000]}\n",
    "\n",
    "# We will use a Logistic Regression\n",
    "logreg =  LogisticRegression(max_iter=5000, random_state=42)\n",
    "\n",
    "# Arrays to store scores\n",
    "non_nested_scores = np.zeros(NUM_TRIALS)\n",
    "nested_scores = np.zeros(NUM_TRIALS)\n",
    "\n",
    "# Loop for each trial\n",
    "for i in range(NUM_TRIALS):\n",
    "\n",
    "    # Choose cross-validation techniques for the inner and outer loops,\n",
    "    # independently of the dataset.\n",
    "    # E.g \"GroupKFold\", \"LeaveOneOut\", \"LeaveOneGroupOut\", etc.\n",
    "    inner_cv = KFold(n_splits=3, shuffle=True, random_state=i)\n",
    "    outer_cv = KFold(n_splits=3, shuffle=True, random_state=i)\n",
    "\n",
    "    # Non_nested parameter search and scoring\n",
    "    clf = GridSearchCV(estimator=logreg, param_grid=p_grid, cv=inner_cv)\n",
    "    clf.fit(X_p, y_p)\n",
    "    non_nested_scores[i] = clf.best_score_\n",
    "\n",
    "    # Nested CV with parameter optimization\n",
    "    nested_score = cross_val_score(clf, X=X_p, y=y_p, cv=outer_cv)\n",
    "    nested_scores[i] = nested_score.mean()\n",
    "\n",
    "score_difference = non_nested_scores - nested_scores\n",
    "\n",
    "print(\"Average difference of {:6f} with std. dev. of {:6f}.\"\n",
    "      .format(score_difference.mean(), score_difference.std()))\n",
    "\n",
    "# Plot scores on each trial for nested and non-nested CV\n",
    "plt.figure()\n",
    "plt.subplot(211)\n",
    "non_nested_scores_line, = plt.plot(non_nested_scores, color='r')\n",
    "nested_line, = plt.plot(nested_scores, color='b')\n",
    "plt.ylabel(\"score\", fontsize=\"14\")\n",
    "plt.legend([non_nested_scores_line, nested_line],\n",
    "           [\"Non-Nested CV\", \"Nested CV\"],\n",
    "           bbox_to_anchor=(1, 0, 0, .8)) #(0, .4, .5, 0))\n",
    "plt.title(\"Non-Nested and Nested Cross Validation predicting penguin species from measurements\",\n",
    "          x=.5, y=1.1, fontsize=\"15\")\n",
    "\n",
    "# Plot bar chart of the difference.\n",
    "plt.subplot(212)\n",
    "difference_plot = plt.bar(range(NUM_TRIALS), score_difference)\n",
    "plt.xlabel(\"Individual Trial #\")\n",
    "plt.legend([difference_plot],\n",
    "           [\"Non-Nested CV - Nested CV Score\"],\n",
    "           bbox_to_anchor=(1, 0, 0, .8))\n",
    "plt.ylabel(\"score difference\", fontsize=\"14\")\n",
    "\n",
    "plt.show()\n"
   ]
  },
  {
   "cell_type": "code",
   "execution_count": null,
   "metadata": {
    "colab": {
     "base_uri": "https://localhost:8080/",
     "height": 360
    },
    "executionInfo": {
     "elapsed": 26435,
     "status": "ok",
     "timestamp": 1606292657022,
     "user": {
      "displayName": "Jason Fleischer",
      "photoUrl": "https://lh3.googleusercontent.com/a-/AOh14GgtpHzWbfEIjvnSItG-SwnFKlKdDRTKK6knRrrJ=s64",
      "userId": "06790656365434630744"
     },
     "user_tz": 480
    },
    "id": "ai9XNyVm4-mH",
    "outputId": "a5e96b7a-3809-4040-cabd-bae46a985d8e",
    "scrolled": false
   },
   "outputs": [],
   "source": [
    "%%time \n",
    "\n",
    "from sklearn.svm import SVC\n",
    "from sklearn.model_selection import GridSearchCV\n",
    "from sklearn.linear_model import LogisticRegression\n",
    "\n",
    "\n",
    "\n",
    "# Number of random trials\n",
    "NUM_TRIALS = 20\n",
    "\n",
    "# Set up possible values of parameters to optimize over\n",
    "# this is a regularization parameter, smaller C => more regularization\n",
    "p_grid = {\"C\": [1, 10, 100,  1000]}\n",
    "\n",
    "# We will use a Logistic Regression\n",
    "logreg =  LogisticRegression(max_iter=5000, random_state=42)\n",
    "\n",
    "# Arrays to store scores\n",
    "non_nested_scores = np.zeros(NUM_TRIALS)\n",
    "nested_scores = np.zeros(NUM_TRIALS)\n",
    "\n",
    "# Loop for each trial\n",
    "for i in range(NUM_TRIALS):\n",
    "\n",
    "    # Choose cross-validation techniques for the inner and outer loops,\n",
    "    # independently of the dataset.\n",
    "    # E.g \"GroupKFold\", \"LeaveOneOut\", \"LeaveOneGroupOut\", etc.\n",
    "    inner_cv = KFold(n_splits=3, shuffle=True, random_state=i)\n",
    "    outer_cv = KFold(n_splits=3, shuffle=True, random_state=i)\n",
    "\n",
    "    # Non_nested parameter search and scoring\n",
    "    clf = GridSearchCV(estimator=logreg, param_grid=p_grid, cv=inner_cv, n_jobs=-1)\n",
    "    clf.fit(X_p, y_p)\n",
    "    non_nested_scores[i] = clf.best_score_\n",
    "\n",
    "    # Nested CV with parameter optimization\n",
    "    nested_score = cross_val_score(clf, X=X_p, y=y_p, cv=outer_cv)\n",
    "    nested_scores[i] = nested_score.mean()\n",
    "\n",
    "score_difference = non_nested_scores - nested_scores\n",
    "\n",
    "print(\"Average difference of {:6f} with std. dev. of {:6f}.\"\n",
    "      .format(score_difference.mean(), score_difference.std()))\n",
    "\n",
    "# Plot scores on each trial for nested and non-nested CV\n",
    "plt.figure()\n",
    "plt.subplot(211)\n",
    "non_nested_scores_line, = plt.plot(non_nested_scores, color='r')\n",
    "nested_line, = plt.plot(nested_scores, color='b')\n",
    "plt.ylabel(\"score\", fontsize=\"14\")\n",
    "plt.legend([non_nested_scores_line, nested_line],\n",
    "           [\"Non-Nested CV\", \"Nested CV\"],\n",
    "           bbox_to_anchor=(1, 0, 0, .8)) #(0, .4, .5, 0))\n",
    "plt.title(\"Non-Nested and Nested Cross Validation predicting penguin species from measurements\",\n",
    "          x=.5, y=1.1, fontsize=\"15\")\n",
    "\n",
    "# Plot bar chart of the difference.\n",
    "plt.subplot(212)\n",
    "difference_plot = plt.bar(range(NUM_TRIALS), score_difference)\n",
    "plt.xlabel(\"Individual Trial #\")\n",
    "plt.legend([difference_plot],\n",
    "           [\"Non-Nested CV - Nested CV Score\"],\n",
    "           bbox_to_anchor=(1, 0, 0, .8))\n",
    "plt.ylabel(\"score difference\", fontsize=\"14\")\n",
    "\n",
    "plt.show()\n"
   ]
  },
  {
   "cell_type": "markdown",
   "metadata": {
    "id": "I22A_3Lw8sTR"
   },
   "source": [
    "As you can see above, nested consistently estimates generalization performance about 1% lower than regular cross validation on this data/algorithm combo.  And that is due to less optimistic bias... that is, when we see new data, the nested cross-val is more likely than cross-vla to be closer to the true test set performance.\n",
    "\n",
    "# Stratification\n",
    "\n",
    "One more possible complication that can occur when your have imbalanced classification problems:"
   ]
  },
  {
   "cell_type": "code",
   "execution_count": null,
   "metadata": {
    "colab": {
     "base_uri": "https://localhost:8080/"
    },
    "executionInfo": {
     "elapsed": 340,
     "status": "ok",
     "timestamp": 1606284557456,
     "user": {
      "displayName": "Jason Fleischer",
      "photoUrl": "https://lh3.googleusercontent.com/a-/AOh14GgtpHzWbfEIjvnSItG-SwnFKlKdDRTKK6knRrrJ=s64",
      "userId": "06790656365434630744"
     },
     "user_tz": 480
    },
    "id": "eRftZV7s6yyc",
    "outputId": "a149d978-c762-462b-e4e4-7d2769b3f530"
   },
   "outputs": [],
   "source": [
    "df.groupby('species').count()['island'].rename('count')"
   ]
  },
  {
   "cell_type": "markdown",
   "metadata": {
    "id": "ei_fEKdq7iOx"
   },
   "source": [
    "As you randomly shuffle data for making the folds of the cross-validation, you can end up with folds that under- or over- represent a given class as compared to the training data.  Imagine,that randomly a fold ends up with only 5% of the samples being Chinstrap penguins, and all of those are female. In that case this classifier might be terrible at recognizing Chinstraps in general and males in particular.  So the estimate of generalization performance is now going to be much worse than it might otherwise be.\n",
    "\n",
    "To address problems like this we can force the folds to have the SAME % of each class as the overall training data using StratifiedKFold as shown below:\n",
    "\n",
    "\n",
    "![sphx_glr_plot_cv_indices_003.png](data:image/png;base64,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)"
   ]
  },
  {
   "cell_type": "code",
   "execution_count": null,
   "metadata": {
    "colab": {
     "base_uri": "https://localhost:8080/",
     "height": 366
    },
    "executionInfo": {
     "elapsed": 1417,
     "status": "ok",
     "timestamp": 1606292988919,
     "user": {
      "displayName": "Jason Fleischer",
      "photoUrl": "https://lh3.googleusercontent.com/a-/AOh14GgtpHzWbfEIjvnSItG-SwnFKlKdDRTKK6knRrrJ=s64",
      "userId": "06790656365434630744"
     },
     "user_tz": 480
    },
    "id": "5-EPDkb78kVS",
    "outputId": "9b104b05-8c88-4343-b0e7-1181b2f8951e"
   },
   "outputs": [],
   "source": [
    "from sklearn.model_selection import StratifiedKFold\n",
    "from sklearn.linear_model import LogisticRegression \n",
    "\n",
    "results1 = cross_val_score( LogisticRegression(max_iter=5000, random_state=21, penalty='none'), \n",
    "                           X_p, y_p, cv=KFold(n_splits=10, random_state=747, shuffle=True))\n",
    "results2 = cross_val_score( LogisticRegression(max_iter=5000, random_state=21, penalty='none'), \n",
    "                           X_p, y_p, cv=StratifiedKFold(n_splits=10, random_state=747, shuffle=True))\n",
    "\n",
    "results = pd.DataFrame({'Regular': results1, 'Stratified': results2})\n",
    "results"
   ]
  },
  {
   "cell_type": "code",
   "execution_count": null,
   "metadata": {
    "colab": {
     "base_uri": "https://localhost:8080/",
     "height": 303
    },
    "executionInfo": {
     "elapsed": 427,
     "status": "ok",
     "timestamp": 1606293007795,
     "user": {
      "displayName": "Jason Fleischer",
      "photoUrl": "https://lh3.googleusercontent.com/a-/AOh14GgtpHzWbfEIjvnSItG-SwnFKlKdDRTKK6knRrrJ=s64",
      "userId": "06790656365434630744"
     },
     "user_tz": 480
    },
    "id": "kYdd9tVM9fqu",
    "outputId": "a4d08ced-5c57-4517-b233-8e2981216b2f"
   },
   "outputs": [],
   "source": [
    "results.describe()"
   ]
  },
  {
   "cell_type": "code",
   "execution_count": null,
   "metadata": {},
   "outputs": [],
   "source": [
    "sns.pairplot(df,hue='species')"
   ]
  },
  {
   "cell_type": "markdown",
   "metadata": {
    "id": "Zt72pUx2uoDD"
   },
   "source": [
    "Stratified CV reduces the variability between \n",
    "folds in half!  You will likely see a difference in performance mean/median as well. \n",
    "\n",
    "So, if we assume that our dataset is a REPRESENTATIVE SAMPLE of the true population, then we should use the Stratified K-fold to get the best estimate of generalization performance.   \n",
    "\n",
    "Pop quiz: What if the class imbalance doesn't truly reflect the population, it's just an artifact of the dataset? What should we do if we do know the real class balance? E.g. our population is people in the US and we know it's pretty close to 50/50 sex ratio... but our data is 65% male. What can we do to alleviate this problem? \n",
    "\n",
    "# Model selection\n",
    "\n",
    "What if you want to make a grid search where we don't waste time on bogus runs or cause errors?\n",
    "\n",
    "For instance, SVM's with a polynomial kernel need to be tried for different parameters of ```degree``` and RBF kernels need to be tried for different parameters of ```gamma```.  But it's a waste of computing power to run a bunch of searches for RBF kernels that vary ```degree``` or searches for polynomial kernels that vary ```gamma```\n",
    "\n",
    "Likewise some solvers allow you to do some regularization penalties and not others. So if you want to avoid error messages don't ask a solver to do something it can't while still asking it of the ones that can.\n",
    "\n",
    "Here's one way to do that quickly with a minimum of code. You just setup the search space to be a list of parameter grids that cover all the combos you need covered."
   ]
  }
 ],
 "metadata": {
  "colab": {
   "authorship_tag": "ABX9TyMLLIgQUfdWq2CvTt9hUHDC",
   "collapsed_sections": [],
   "name": "COGS118A_L19_model_selection.ipynb",
   "provenance": []
  },
  "kernelspec": {
   "display_name": "Python 3 (ipykernel)",
   "language": "python",
   "name": "python3"
  },
  "language_info": {
   "codemirror_mode": {
    "name": "ipython",
    "version": 3
   },
   "file_extension": ".py",
   "mimetype": "text/x-python",
   "name": "python",
   "nbconvert_exporter": "python",
   "pygments_lexer": "ipython3",
   "version": "3.9.12"
  }
 },
 "nbformat": 4,
 "nbformat_minor": 1
}
